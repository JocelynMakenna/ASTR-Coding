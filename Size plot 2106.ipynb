{
 "cells": [
  {
   "cell_type": "code",
   "execution_count": 51,
   "id": "0c1a47bb",
   "metadata": {},
   "outputs": [
    {
     "data": {
      "text/html": [
       "<style>.container { width:100% !important; }</style>"
      ],
      "text/plain": [
       "<IPython.core.display.HTML object>"
      ]
     },
     "metadata": {},
     "output_type": "display_data"
    }
   ],
   "source": [
    "# importing libraries, grabbed from other code in file\n",
    "\n",
    "# make notebook span width of browser window, for convenience\n",
    "from IPython.core.display import display, HTML\n",
    "display(HTML(\"<style>.container { width:100% !important; }</style>\"))\n",
    "\n",
    "import numpy as np\n",
    "np.warnings.filterwarnings('ignore')\n",
    "\n",
    "\n",
    "# import matplotlib\n",
    "import matplotlib.pyplot as plt\n",
    "import matplotlib.ticker as plticker\n",
    "# for jupyter notebooks to show plots inline\n",
    "%matplotlib inline \n",
    "#%matplotlib\n",
    "\n",
    "from astropy.table import Table\n",
    "from astropy.io import fits, ascii\n",
    "from astropy import units as u\n",
    "from astropy.coordinates import SkyCoord\n",
    "\n",
    "\n",
    "\n",
    "import pandas as pd \n",
    "import astropy\n",
    "pd.set_option('display.max_columns', 500) # convenient for \n"
   ]
  },
  {
   "cell_type": "code",
   "execution_count": 52,
   "id": "d3d69bf6",
   "metadata": {},
   "outputs": [],
   "source": [
    "# define cosmology\n",
    "from astropy.cosmology import FlatLambdaCDM\n",
    "cosmo = FlatLambdaCDM(H0=70, Om0=0.3)"
   ]
  },
  {
   "cell_type": "code",
   "execution_count": 53,
   "id": "9be5b9ea",
   "metadata": {
    "scrolled": false
   },
   "outputs": [
    {
     "data": {
      "text/plain": [
       "[<astropy.io.fits.hdu.image.PrimaryHDU object at 0x0000027FFF55DFA0>, <astropy.io.fits.hdu.table.BinTableHDU object at 0x0000027F801B3DF0>]"
      ]
     },
     "execution_count": 53,
     "metadata": {},
     "output_type": "execute_result"
    }
   ],
   "source": [
    "astropy.io.fits.open(r\"C:\\Users\\jblan\\Documents\\College work\\Sem 7\\Labs\\DR1\\CATS\\Photo.fits\")"
   ]
  },
  {
   "cell_type": "code",
   "execution_count": 55,
   "id": "25823fad",
   "metadata": {
    "scrolled": true
   },
   "outputs": [],
   "source": [
    "fits_photo = fits.util.get_testdata_filepath(\"https://www.canfar.net/storage/vault/list/GOGREEN/DR1/CATS/Photo.fits\")\n",
    "hdul = fits.open(fits_photo)"
   ]
  },
  {
   "cell_type": "code",
   "execution_count": null,
   "id": "05aa0727",
   "metadata": {},
   "outputs": [],
   "source": []
  }
 ],
 "metadata": {
  "kernelspec": {
   "display_name": "Python 3",
   "language": "python",
   "name": "python3"
  },
  "language_info": {
   "codemirror_mode": {
    "name": "ipython",
    "version": 3
   },
   "file_extension": ".py",
   "mimetype": "text/x-python",
   "name": "python",
   "nbconvert_exporter": "python",
   "pygments_lexer": "ipython3",
   "version": "3.8.8"
  }
 },
 "nbformat": 4,
 "nbformat_minor": 5
}
