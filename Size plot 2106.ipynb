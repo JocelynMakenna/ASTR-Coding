{
 "cells": [
  {
   "cell_type": "code",
   "execution_count": 2,
   "id": "0c1a47bb",
   "metadata": {},
   "outputs": [
    {
     "data": {
      "text/html": [
       "<style>.container { width:100% !important; }</style>"
      ],
      "text/plain": [
       "<IPython.core.display.HTML object>"
      ]
     },
     "metadata": {},
     "output_type": "display_data"
    }
   ],
   "source": [
    "# importing libraries, grabbed from other code in file\n",
    "\n",
    "# make notebook span width of browser window, for convenience\n",
    "from IPython.core.display import display, HTML\n",
    "display(HTML(\"<style>.container { width:100% !important; }</style>\"))\n",
    "\n",
    "import numpy as np\n",
    "np.warnings.filterwarnings('ignore')\n",
    "\n",
    "\n",
    "# import matplotlib\n",
    "import matplotlib.pyplot as plt\n",
    "import matplotlib.ticker as plticker\n",
    "# for jupyter notebooks to show plots inline\n",
    "%matplotlib inline \n",
    "#%matplotlib\n",
    "\n",
    "from astropy.table import Table\n",
    "from astropy.io import fits, ascii\n",
    "from astropy import units as u\n",
    "from astropy.coordinates import SkyCoord\n",
    "\n",
    "\n",
    "\n",
    "import pandas as pd \n",
    "import astropy\n",
    "pd.set_option('display.max_columns', 500) # convenient for \n"
   ]
  },
  {
   "cell_type": "code",
   "execution_count": 3,
   "id": "d3d69bf6",
   "metadata": {},
   "outputs": [],
   "source": [
    "# define cosmology\n",
    "from astropy.cosmology import FlatLambdaCDM\n",
    "cosmo = FlatLambdaCDM(H0=70, Om0=0.3)"
   ]
  },
  {
   "cell_type": "code",
   "execution_count": 14,
   "id": "9be5b9ea",
   "metadata": {
    "scrolled": false
   },
   "outputs": [
    {
     "data": {
      "text/plain": [
       "ColDefs(\n",
       "    name = 'Cluster'; format = '10A'\n",
       "    name = 'cPHOTID'; format = 'J'\n",
       "    name = 'SPECID'; format = 'J'\n",
       "    name = 'ra'; format = 'D'\n",
       "    name = 'dec'; format = 'D'\n",
       "    name = 'zspec'; format = 'D'\n",
       "    name = 'Redshift_Quality'; format = 'D'\n",
       "    name = 'zphot'; format = 'D'\n",
       "    name = 'zphot_l68'; format = 'D'\n",
       "    name = 'zphot_u68'; format = 'D'\n",
       "    name = 'UMINV'; format = 'D'\n",
       "    name = 'VMINJ'; format = 'D'\n",
       "    name = 'Star'; format = 'D'\n",
       "    name = 'K_flag'; format = 'D'\n",
       "    name = 'totmask'; format = 'D'\n",
       "    name = 'Mstellar'; format = 'D'\n",
       "    name = 'u_tot'; format = 'D'\n",
       "    name = 'g_tot'; format = 'D'\n",
       "    name = 'r_tot'; format = 'D'\n",
       "    name = 'i_tot'; format = 'D'\n",
       "    name = 'z_tot'; format = 'D'\n",
       "    name = 'y_tot'; format = 'D'\n",
       "    name = 'V_tot'; format = 'D'\n",
       "    name = 'B_tot'; format = 'D'\n",
       "    name = 'J_tot'; format = 'D'\n",
       "    name = 'H_tot'; format = 'D'\n",
       "    name = 'K_tot'; format = 'D'\n",
       "    name = 'Ks_tot'; format = 'D'\n",
       "    name = 'IRAC1_tot'; format = 'D'\n",
       "    name = 'IRAC2_tot'; format = 'D'\n",
       "    name = 'IRAC3_tot'; format = 'D'\n",
       "    name = 'IRAC4_tot'; format = 'D'\n",
       "    name = 'IA484_tot'; format = 'D'\n",
       "    name = 'IA527_tot'; format = 'D'\n",
       "    name = 'IA624_tot'; format = 'D'\n",
       "    name = 'IA679_tot'; format = 'D'\n",
       "    name = 'IA738_tot'; format = 'D'\n",
       "    name = 'IA767_tot'; format = 'D'\n",
       "    name = 'IB427_tot'; format = 'D'\n",
       "    name = 'IB464_tot'; format = 'D'\n",
       "    name = 'IB505_tot'; format = 'D'\n",
       "    name = 'IB574_tot'; format = 'D'\n",
       "    name = 'IB709_tot'; format = 'D'\n",
       "    name = 'IB827_tot'; format = 'D'\n",
       "    name = 'fuv_tot'; format = 'D'\n",
       "    name = 'nuv_tot'; format = 'D'\n",
       "    name = 'mips24_tot'; format = 'D'\n",
       "    name = 'eu_tot'; format = 'D'\n",
       "    name = 'eg_tot'; format = 'D'\n",
       "    name = 'er_tot'; format = 'D'\n",
       "    name = 'ei_tot'; format = 'D'\n",
       "    name = 'ez_tot'; format = 'D'\n",
       "    name = 'ey_tot'; format = 'D'\n",
       "    name = 'eV_tot'; format = 'D'\n",
       "    name = 'eB_tot'; format = 'D'\n",
       "    name = 'eJ_tot'; format = 'D'\n",
       "    name = 'eH_tot'; format = 'D'\n",
       "    name = 'eK_tot'; format = 'D'\n",
       "    name = 'eKs_tot'; format = 'D'\n",
       "    name = 'eIRAC1_tot'; format = 'D'\n",
       "    name = 'eIRAC2_tot'; format = 'D'\n",
       "    name = 'eIRAC3_tot'; format = 'D'\n",
       "    name = 'eIRAC4_tot'; format = 'D'\n",
       "    name = 'eIA484_tot'; format = 'D'\n",
       "    name = 'eIA527_tot'; format = 'D'\n",
       "    name = 'eIA624_tot'; format = 'D'\n",
       "    name = 'eIA679_tot'; format = 'D'\n",
       "    name = 'eIA738_tot'; format = 'D'\n",
       "    name = 'eIA767_tot'; format = 'D'\n",
       "    name = 'eIB427_tot'; format = 'D'\n",
       "    name = 'eIB464_tot'; format = 'D'\n",
       "    name = 'eIB505_tot'; format = 'D'\n",
       "    name = 'eIB574_tot'; format = 'D'\n",
       "    name = 'eIB709_tot'; format = 'D'\n",
       "    name = 'eIB827_tot'; format = 'D'\n",
       "    name = 'efuv_tot'; format = 'D'\n",
       "    name = 'enuv_tot'; format = 'D'\n",
       "    name = 'emips24_tot'; format = 'D'\n",
       ")"
      ]
     },
     "metadata": {},
     "output_type": "display_data"
    },
    {
     "data": {
      "text/plain": [
       "array([101000254, 101000272, 101000286, ..., 219005809, 219005810,\n",
       "       219005811], dtype=int32)"
      ]
     },
     "metadata": {},
     "output_type": "display_data"
    }
   ],
   "source": [
    "#astropy.io.fits.open(r\"C:\\Users\\jblan\\Documents\\College work\\Sem 7\\Labs\\DR1\\CATS\\Photo.fits\")\n",
    "#reads in fits file to hdul\n",
    "hdul = fits.open(r\"/Users/grudnick/Work/GOGREEN/Data/Releases/DR1/CATS/Photo.fits\")\n",
    "#displays info about file and extensions\n",
    "hdul.info()\n",
    "#extracts the data from the first extension, which in this case is the only non-empty extension\n",
    "data = hdul[1].data\n",
    "#displays all the columns, which are keywords for the data dictionary\n",
    "display(data.columns)\n",
    "#accesses the array that corresponds to one of those dictionary elements.\n",
    "display(data['cPHOTID'])"
   ]
  },
  {
   "cell_type": "code",
   "execution_count": 55,
   "id": "25823fad",
   "metadata": {
    "scrolled": true
   },
   "outputs": [],
   "source": [
    "fits_photo = fits.util.get_testdata_filepath(\"https://www.canfar.net/storage/vault/list/GOGREEN/DR1/CATS/Photo.fits\")\n",
    "hdul = fits.open(fits_photo)"
   ]
  },
  {
   "cell_type": "code",
   "execution_count": null,
   "id": "05aa0727",
   "metadata": {},
   "outputs": [],
   "source": []
  }
 ],
 "metadata": {
  "kernelspec": {
   "display_name": "Python 3",
   "language": "python",
   "name": "python3"
  },
  "language_info": {
   "codemirror_mode": {
    "name": "ipython",
    "version": 3
   },
   "file_extension": ".py",
   "mimetype": "text/x-python",
   "name": "python",
   "nbconvert_exporter": "python",
   "pygments_lexer": "ipython3",
   "version": "3.7.10"
  }
 },
 "nbformat": 4,
 "nbformat_minor": 5
}
