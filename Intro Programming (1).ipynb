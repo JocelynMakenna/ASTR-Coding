{
 "cells": [
  {
   "cell_type": "code",
   "execution_count": 5,
   "id": "34d8e7a6",
   "metadata": {},
   "outputs": [],
   "source": [
    "import pandas as pd\n",
    "import numpy as np\n",
    "import matplotlib.pyplot as plt"
   ]
  },
  {
   "cell_type": "code",
   "execution_count": 6,
   "id": "5390f4e9",
   "metadata": {
    "scrolled": true
   },
   "outputs": [],
   "source": [
    "txtfile = pd.read_table(r\"C:\\Users\\jblan\\Desktop\\intro_coding3.txt\")"
   ]
  },
  {
   "cell_type": "code",
   "execution_count": 7,
   "id": "a1729005",
   "metadata": {
    "scrolled": true
   },
   "outputs": [
    {
     "data": {
      "text/html": [
       "<div>\n",
       "<style scoped>\n",
       "    .dataframe tbody tr th:only-of-type {\n",
       "        vertical-align: middle;\n",
       "    }\n",
       "\n",
       "    .dataframe tbody tr th {\n",
       "        vertical-align: top;\n",
       "    }\n",
       "\n",
       "    .dataframe thead th {\n",
       "        text-align: right;\n",
       "    }\n",
       "</style>\n",
       "<table border=\"1\" class=\"dataframe\">\n",
       "  <thead>\n",
       "    <tr style=\"text-align: right;\">\n",
       "      <th></th>\n",
       "      <th>x</th>\n",
       "      <th>y</th>\n",
       "      <th>dy</th>\n",
       "    </tr>\n",
       "  </thead>\n",
       "  <tbody>\n",
       "    <tr>\n",
       "      <th>0</th>\n",
       "      <td>0.0</td>\n",
       "      <td>49.1893</td>\n",
       "      <td>30.0</td>\n",
       "    </tr>\n",
       "    <tr>\n",
       "      <th>1</th>\n",
       "      <td>1.0</td>\n",
       "      <td>54.8448</td>\n",
       "      <td>30.0</td>\n",
       "    </tr>\n",
       "    <tr>\n",
       "      <th>2</th>\n",
       "      <td>2.0</td>\n",
       "      <td>40.1114</td>\n",
       "      <td>30.0</td>\n",
       "    </tr>\n",
       "    <tr>\n",
       "      <th>3</th>\n",
       "      <td>3.0</td>\n",
       "      <td>26.1809</td>\n",
       "      <td>30.0</td>\n",
       "    </tr>\n",
       "    <tr>\n",
       "      <th>4</th>\n",
       "      <td>4.0</td>\n",
       "      <td>40.7383</td>\n",
       "      <td>30.0</td>\n",
       "    </tr>\n",
       "    <tr>\n",
       "      <th>5</th>\n",
       "      <td>5.0</td>\n",
       "      <td>71.9467</td>\n",
       "      <td>30.0</td>\n",
       "    </tr>\n",
       "    <tr>\n",
       "      <th>6</th>\n",
       "      <td>6.0</td>\n",
       "      <td>33.5833</td>\n",
       "      <td>30.0</td>\n",
       "    </tr>\n",
       "    <tr>\n",
       "      <th>7</th>\n",
       "      <td>7.0</td>\n",
       "      <td>131.3640</td>\n",
       "      <td>30.0</td>\n",
       "    </tr>\n",
       "    <tr>\n",
       "      <th>8</th>\n",
       "      <td>8.0</td>\n",
       "      <td>68.1970</td>\n",
       "      <td>30.0</td>\n",
       "    </tr>\n",
       "    <tr>\n",
       "      <th>9</th>\n",
       "      <td>9.0</td>\n",
       "      <td>131.0950</td>\n",
       "      <td>30.0</td>\n",
       "    </tr>\n",
       "    <tr>\n",
       "      <th>10</th>\n",
       "      <td>10.0</td>\n",
       "      <td>37.2666</td>\n",
       "      <td>30.0</td>\n",
       "    </tr>\n",
       "    <tr>\n",
       "      <th>11</th>\n",
       "      <td>11.0</td>\n",
       "      <td>189.8680</td>\n",
       "      <td>30.0</td>\n",
       "    </tr>\n",
       "    <tr>\n",
       "      <th>12</th>\n",
       "      <td>12.0</td>\n",
       "      <td>125.0300</td>\n",
       "      <td>30.0</td>\n",
       "    </tr>\n",
       "    <tr>\n",
       "      <th>13</th>\n",
       "      <td>13.0</td>\n",
       "      <td>99.6729</td>\n",
       "      <td>30.0</td>\n",
       "    </tr>\n",
       "    <tr>\n",
       "      <th>14</th>\n",
       "      <td>14.0</td>\n",
       "      <td>127.2710</td>\n",
       "      <td>30.0</td>\n",
       "    </tr>\n",
       "    <tr>\n",
       "      <th>15</th>\n",
       "      <td>15.0</td>\n",
       "      <td>106.4260</td>\n",
       "      <td>30.0</td>\n",
       "    </tr>\n",
       "    <tr>\n",
       "      <th>16</th>\n",
       "      <td>16.0</td>\n",
       "      <td>153.8860</td>\n",
       "      <td>30.0</td>\n",
       "    </tr>\n",
       "    <tr>\n",
       "      <th>17</th>\n",
       "      <td>17.0</td>\n",
       "      <td>153.3810</td>\n",
       "      <td>30.0</td>\n",
       "    </tr>\n",
       "    <tr>\n",
       "      <th>18</th>\n",
       "      <td>18.0</td>\n",
       "      <td>94.8586</td>\n",
       "      <td>30.0</td>\n",
       "    </tr>\n",
       "    <tr>\n",
       "      <th>19</th>\n",
       "      <td>19.0</td>\n",
       "      <td>136.2450</td>\n",
       "      <td>30.0</td>\n",
       "    </tr>\n",
       "    <tr>\n",
       "      <th>20</th>\n",
       "      <td>20.0</td>\n",
       "      <td>166.2350</td>\n",
       "      <td>30.0</td>\n",
       "    </tr>\n",
       "    <tr>\n",
       "      <th>21</th>\n",
       "      <td>21.0</td>\n",
       "      <td>139.3600</td>\n",
       "      <td>30.0</td>\n",
       "    </tr>\n",
       "    <tr>\n",
       "      <th>22</th>\n",
       "      <td>22.0</td>\n",
       "      <td>136.8960</td>\n",
       "      <td>30.0</td>\n",
       "    </tr>\n",
       "    <tr>\n",
       "      <th>23</th>\n",
       "      <td>23.0</td>\n",
       "      <td>148.3190</td>\n",
       "      <td>30.0</td>\n",
       "    </tr>\n",
       "    <tr>\n",
       "      <th>24</th>\n",
       "      <td>24.0</td>\n",
       "      <td>144.2890</td>\n",
       "      <td>30.0</td>\n",
       "    </tr>\n",
       "    <tr>\n",
       "      <th>25</th>\n",
       "      <td>25.0</td>\n",
       "      <td>172.1450</td>\n",
       "      <td>30.0</td>\n",
       "    </tr>\n",
       "    <tr>\n",
       "      <th>26</th>\n",
       "      <td>26.0</td>\n",
       "      <td>204.5990</td>\n",
       "      <td>30.0</td>\n",
       "    </tr>\n",
       "    <tr>\n",
       "      <th>27</th>\n",
       "      <td>27.0</td>\n",
       "      <td>178.1840</td>\n",
       "      <td>30.0</td>\n",
       "    </tr>\n",
       "    <tr>\n",
       "      <th>28</th>\n",
       "      <td>28.0</td>\n",
       "      <td>207.1570</td>\n",
       "      <td>30.0</td>\n",
       "    </tr>\n",
       "    <tr>\n",
       "      <th>29</th>\n",
       "      <td>29.0</td>\n",
       "      <td>268.2060</td>\n",
       "      <td>30.0</td>\n",
       "    </tr>\n",
       "    <tr>\n",
       "      <th>30</th>\n",
       "      <td>30.0</td>\n",
       "      <td>197.2440</td>\n",
       "      <td>30.0</td>\n",
       "    </tr>\n",
       "    <tr>\n",
       "      <th>31</th>\n",
       "      <td>31.0</td>\n",
       "      <td>291.2710</td>\n",
       "      <td>30.0</td>\n",
       "    </tr>\n",
       "    <tr>\n",
       "      <th>32</th>\n",
       "      <td>32.0</td>\n",
       "      <td>261.3460</td>\n",
       "      <td>30.0</td>\n",
       "    </tr>\n",
       "    <tr>\n",
       "      <th>33</th>\n",
       "      <td>33.0</td>\n",
       "      <td>240.7290</td>\n",
       "      <td>30.0</td>\n",
       "    </tr>\n",
       "    <tr>\n",
       "      <th>34</th>\n",
       "      <td>34.0</td>\n",
       "      <td>211.1130</td>\n",
       "      <td>30.0</td>\n",
       "    </tr>\n",
       "    <tr>\n",
       "      <th>35</th>\n",
       "      <td>35.0</td>\n",
       "      <td>223.6060</td>\n",
       "      <td>30.0</td>\n",
       "    </tr>\n",
       "    <tr>\n",
       "      <th>36</th>\n",
       "      <td>36.0</td>\n",
       "      <td>258.4550</td>\n",
       "      <td>30.0</td>\n",
       "    </tr>\n",
       "    <tr>\n",
       "      <th>37</th>\n",
       "      <td>37.0</td>\n",
       "      <td>226.1110</td>\n",
       "      <td>30.0</td>\n",
       "    </tr>\n",
       "    <tr>\n",
       "      <th>38</th>\n",
       "      <td>38.0</td>\n",
       "      <td>276.1290</td>\n",
       "      <td>30.0</td>\n",
       "    </tr>\n",
       "    <tr>\n",
       "      <th>39</th>\n",
       "      <td>39.0</td>\n",
       "      <td>238.1490</td>\n",
       "      <td>30.0</td>\n",
       "    </tr>\n",
       "  </tbody>\n",
       "</table>\n",
       "</div>"
      ],
      "text/plain": [
       "       x         y    dy\n",
       "0    0.0   49.1893  30.0\n",
       "1    1.0   54.8448  30.0\n",
       "2    2.0   40.1114  30.0\n",
       "3    3.0   26.1809  30.0\n",
       "4    4.0   40.7383  30.0\n",
       "5    5.0   71.9467  30.0\n",
       "6    6.0   33.5833  30.0\n",
       "7    7.0  131.3640  30.0\n",
       "8    8.0   68.1970  30.0\n",
       "9    9.0  131.0950  30.0\n",
       "10  10.0   37.2666  30.0\n",
       "11  11.0  189.8680  30.0\n",
       "12  12.0  125.0300  30.0\n",
       "13  13.0   99.6729  30.0\n",
       "14  14.0  127.2710  30.0\n",
       "15  15.0  106.4260  30.0\n",
       "16  16.0  153.8860  30.0\n",
       "17  17.0  153.3810  30.0\n",
       "18  18.0   94.8586  30.0\n",
       "19  19.0  136.2450  30.0\n",
       "20  20.0  166.2350  30.0\n",
       "21  21.0  139.3600  30.0\n",
       "22  22.0  136.8960  30.0\n",
       "23  23.0  148.3190  30.0\n",
       "24  24.0  144.2890  30.0\n",
       "25  25.0  172.1450  30.0\n",
       "26  26.0  204.5990  30.0\n",
       "27  27.0  178.1840  30.0\n",
       "28  28.0  207.1570  30.0\n",
       "29  29.0  268.2060  30.0\n",
       "30  30.0  197.2440  30.0\n",
       "31  31.0  291.2710  30.0\n",
       "32  32.0  261.3460  30.0\n",
       "33  33.0  240.7290  30.0\n",
       "34  34.0  211.1130  30.0\n",
       "35  35.0  223.6060  30.0\n",
       "36  36.0  258.4550  30.0\n",
       "37  37.0  226.1110  30.0\n",
       "38  38.0  276.1290  30.0\n",
       "39  39.0  238.1490  30.0"
      ]
     },
     "execution_count": 7,
     "metadata": {},
     "output_type": "execute_result"
    }
   ],
   "source": [
    "txtfile"
   ]
  },
  {
   "cell_type": "code",
   "execution_count": 8,
   "id": "f2c60ea4",
   "metadata": {
    "scrolled": true
   },
   "outputs": [
    {
     "data": {
      "text/plain": [
       "array([[  0.    ,  49.1893,  30.    ],\n",
       "       [  1.    ,  54.8448,  30.    ],\n",
       "       [  2.    ,  40.1114,  30.    ],\n",
       "       [  3.    ,  26.1809,  30.    ],\n",
       "       [  4.    ,  40.7383,  30.    ],\n",
       "       [  5.    ,  71.9467,  30.    ],\n",
       "       [  6.    ,  33.5833,  30.    ],\n",
       "       [  7.    , 131.364 ,  30.    ],\n",
       "       [  8.    ,  68.197 ,  30.    ],\n",
       "       [  9.    , 131.095 ,  30.    ],\n",
       "       [ 10.    ,  37.2666,  30.    ],\n",
       "       [ 11.    , 189.868 ,  30.    ],\n",
       "       [ 12.    , 125.03  ,  30.    ],\n",
       "       [ 13.    ,  99.6729,  30.    ],\n",
       "       [ 14.    , 127.271 ,  30.    ],\n",
       "       [ 15.    , 106.426 ,  30.    ],\n",
       "       [ 16.    , 153.886 ,  30.    ],\n",
       "       [ 17.    , 153.381 ,  30.    ],\n",
       "       [ 18.    ,  94.8586,  30.    ],\n",
       "       [ 19.    , 136.245 ,  30.    ],\n",
       "       [ 20.    , 166.235 ,  30.    ],\n",
       "       [ 21.    , 139.36  ,  30.    ],\n",
       "       [ 22.    , 136.896 ,  30.    ],\n",
       "       [ 23.    , 148.319 ,  30.    ],\n",
       "       [ 24.    , 144.289 ,  30.    ],\n",
       "       [ 25.    , 172.145 ,  30.    ],\n",
       "       [ 26.    , 204.599 ,  30.    ],\n",
       "       [ 27.    , 178.184 ,  30.    ],\n",
       "       [ 28.    , 207.157 ,  30.    ],\n",
       "       [ 29.    , 268.206 ,  30.    ],\n",
       "       [ 30.    , 197.244 ,  30.    ],\n",
       "       [ 31.    , 291.271 ,  30.    ],\n",
       "       [ 32.    , 261.346 ,  30.    ],\n",
       "       [ 33.    , 240.729 ,  30.    ],\n",
       "       [ 34.    , 211.113 ,  30.    ],\n",
       "       [ 35.    , 223.606 ,  30.    ],\n",
       "       [ 36.    , 258.455 ,  30.    ],\n",
       "       [ 37.    , 226.111 ,  30.    ],\n",
       "       [ 38.    , 276.129 ,  30.    ],\n",
       "       [ 39.    , 238.149 ,  30.    ]])"
      ]
     },
     "execution_count": 8,
     "metadata": {},
     "output_type": "execute_result"
    }
   ],
   "source": [
    "array = np.array(txtfile)\n",
    "array"
   ]
  },
  {
   "cell_type": "code",
   "execution_count": 9,
   "id": "12244a04",
   "metadata": {},
   "outputs": [
    {
     "data": {
      "text/plain": [
       "array([ 0.,  1.,  2.,  3.,  4.,  5.,  6.,  7.,  8.,  9., 10., 11., 12.,\n",
       "       13., 14., 15., 16., 17., 18., 19., 20., 21., 22., 23., 24., 25.,\n",
       "       26., 27., 28., 29., 30., 31., 32., 33., 34., 35., 36., 37., 38.,\n",
       "       39.])"
      ]
     },
     "execution_count": 9,
     "metadata": {},
     "output_type": "execute_result"
    }
   ],
   "source": [
    "xarray = np.array(txtfile['x'])\n",
    "xarray"
   ]
  },
  {
   "cell_type": "code",
   "execution_count": 10,
   "id": "c2451a95",
   "metadata": {},
   "outputs": [
    {
     "data": {
      "text/plain": [
       "array([ 49.1893,  54.8448,  40.1114,  26.1809,  40.7383,  71.9467,\n",
       "        33.5833, 131.364 ,  68.197 , 131.095 ,  37.2666, 189.868 ,\n",
       "       125.03  ,  99.6729, 127.271 , 106.426 , 153.886 , 153.381 ,\n",
       "        94.8586, 136.245 , 166.235 , 139.36  , 136.896 , 148.319 ,\n",
       "       144.289 , 172.145 , 204.599 , 178.184 , 207.157 , 268.206 ,\n",
       "       197.244 , 291.271 , 261.346 , 240.729 , 211.113 , 223.606 ,\n",
       "       258.455 , 226.111 , 276.129 , 238.149 ])"
      ]
     },
     "execution_count": 10,
     "metadata": {},
     "output_type": "execute_result"
    }
   ],
   "source": [
    "yarray = np.array(txtfile['y'])\n",
    "yarray"
   ]
  },
  {
   "cell_type": "code",
   "execution_count": 11,
   "id": "2d29b446",
   "metadata": {},
   "outputs": [
    {
     "data": {
      "text/plain": [
       "array([30., 30., 30., 30., 30., 30., 30., 30., 30., 30., 30., 30., 30.,\n",
       "       30., 30., 30., 30., 30., 30., 30., 30., 30., 30., 30., 30., 30.,\n",
       "       30., 30., 30., 30., 30., 30., 30., 30., 30., 30., 30., 30., 30.,\n",
       "       30.])"
      ]
     },
     "execution_count": 11,
     "metadata": {},
     "output_type": "execute_result"
    }
   ],
   "source": [
    "dyarray = np.array(txtfile['dy'])\n",
    "dyarray"
   ]
  },
  {
   "cell_type": "code",
   "execution_count": 12,
   "id": "cd4797e9",
   "metadata": {
    "scrolled": false
   },
   "outputs": [
    {
     "data": {
      "text/plain": [
       "<AxesSubplot:xlabel='x', ylabel='y'>"
      ]
     },
     "execution_count": 12,
     "metadata": {},
     "output_type": "execute_result"
    },
    {
     "data": {
      "image/png": "[encoded data removed]",
      "text/plain": [
       "<Figure size 432x288 with 1 Axes>"
      ]
     },
     "metadata": {
      "needs_background": "light"
     },
     "output_type": "display_data"
    }
   ],
   "source": [
    "txtfile.plot.scatter (x=\"x\", y=\"y\")"
   ]
  },
  {
   "cell_type": "code",
   "execution_count": 13,
   "id": "8dc6ad2a",
   "metadata": {},
   "outputs": [
    {
     "name": "stdout",
     "output_type": "stream",
     "text": [
      "5.864784559099437\n",
      "37.15417109756095\n"
     ]
    }
   ],
   "source": [
    "m, b = np.polyfit(xarray, yarray, 1)\n",
    "print(m)\n",
    "print(b)"
   ]
  },
  {
   "cell_type": "code",
   "execution_count": 14,
   "id": "7c042386",
   "metadata": {
    "scrolled": true
   },
   "outputs": [
    {
     "data": {
      "text/plain": [
       "[<matplotlib.lines.Line2D at 0x1e846abe6d0>]"
      ]
     },
     "execution_count": 14,
     "metadata": {},
     "output_type": "execute_result"
    },
    {
     "data": {
      "image/png": "[encoded data removed]",
      "text/plain": [
       "<Figure size 432x288 with 1 Axes>"
      ]
     },
     "metadata": {
      "needs_background": "light"
     },
     "output_type": "display_data"
    }
   ],
   "source": [
    "plt.plot(xarray, yarray, 'o')\n",
    "plt.plot(xarray, m*xarray + b)"
   ]
  },
  {
   "cell_type": "code",
   "execution_count": 15,
   "id": "3fb8b1fc",
   "metadata": {},
   "outputs": [],
   "source": [
    "#I don't know remember/know how to do uncertainty, or what specifically you are referring to? \n",
    "#Additionally, never learned how to do subroutine, but I can absolutely brute force google search how to do that"
   ]
  },
  {
   "cell_type": "code",
   "execution_count": 16,
   "id": "33affedb",
   "metadata": {},
   "outputs": [
    {
     "name": "stdout",
     "output_type": "stream",
     "text": [
      "5.755886802504982\n",
      "40.805111673912045\n"
     ]
    }
   ],
   "source": [
    "dyarray[10]=0.01\n",
    "m, b = np.polyfit(xarray, yarray, 1, w = dyarray)\n",
    "print(m)\n",
    "print(b)"
   ]
  },
  {
   "cell_type": "code",
   "execution_count": 19,
   "id": "66236e28",
   "metadata": {
    "scrolled": true
   },
   "outputs": [
    {
     "data": {
      "text/plain": [
       "[<matplotlib.lines.Line2D at 0x1e846c4afd0>]"
      ]
     },
     "execution_count": 19,
     "metadata": {},
     "output_type": "execute_result"
    },
    {
     "data": {
      "image/png": "[encoded data removed]",
      "text/plain": [
       "<Figure size 432x288 with 1 Axes>"
      ]
     },
     "metadata": {
      "needs_background": "light"
     },
     "output_type": "display_data"
    }
   ],
   "source": [
    "plt.errorbar(xarray, yarray,yerr=dyarray, fmt = 'o')\n",
    "plt.plot(xarray, m*xarray + b)"
   ]
  },
  {
   "cell_type": "code",
   "execution_count": 21,
   "id": "956f64af",
   "metadata": {},
   "outputs": [],
   "source": [
    "def graph (x2,y2,dy2):\n",
    "    plt.errorbar(x2, y2, yerr=dy2, fmt = 'o')\n",
    "    plt.plot(x2, m*x2 + b)"
   ]
  },
  {
   "cell_type": "code",
   "execution_count": 22,
   "id": "67598107",
   "metadata": {},
   "outputs": [
    {
     "data": {
      "image/png": "[encoded data removed]",
      "text/plain": [
       "<Figure size 432x288 with 1 Axes>"
      ]
     },
     "metadata": {
      "needs_background": "light"
     },
     "output_type": "display_data"
    }
   ],
   "source": [
    "graph (2, 100, 30)"
   ]
  },
  {
   "cell_type": "code",
   "execution_count": null,
   "id": "39f5e516",
   "metadata": {},
   "outputs": [],
   "source": [
    "#is this what was asked of me? "
   ]
  }
 ],
 "metadata": {
  "kernelspec": {
   "display_name": "Python 3",
   "language": "python",
   "name": "python3"
  },
  "language_info": {
   "codemirror_mode": {
    "name": "ipython",
    "version": 3
   },
   "file_extension": ".py",
   "mimetype": "text/x-python",
   "name": "python",
   "nbconvert_exporter": "python",
   "pygments_lexer": "ipython3",
   "version": "3.8.8"
  }
 },
 "nbformat": 4,
 "nbformat_minor": 5
}
