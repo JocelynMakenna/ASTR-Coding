{
 "cells": [
  {
   "cell_type": "code",
   "execution_count": 1,
   "id": "fc48b96d",
   "metadata": {},
   "outputs": [],
   "source": [
    "import pandas as pd\n",
    "import numpy as np\n",
    "import matplotlib.pyplot as plt\n",
    "import random\n",
    "import math"
   ]
  },
  {
   "cell_type": "code",
   "execution_count": 17,
   "id": "0cf9e4f3",
   "metadata": {},
   "outputs": [],
   "source": [
    "def computePI (iterations):\n",
    "    in_circle = 0 #variable for all values within the circle\n",
    "    throws = 0 #variable to count up to iterations input number\n",
    "    xarray = [] #declare as empty arrays\n",
    "    yarray = []\n",
    "    \n",
    "    while(throws < iterations):\n",
    "        xran = random.uniform(-1.0,1.0) #call random numbers on a -1 to 1 value (giving the circle a r=1)\n",
    "        yran = random.uniform(-1.0,1.0)\n",
    "        np.append.xarray = [xran] #append value to numpy array\n",
    "        np.append.yarray = [yran]\n",
    "        if math.hypot (xran, yran) <= 1: #if the hypot of x and y is less than 1 (in the circle)\n",
    "            in_circle += 1\n",
    "            throws += 1\n",
    "        else: #if the hypot is larger than 1 (outside the cirlce)\n",
    "            throws += 1\n",
    "            \n",
    "    plt.plot(xarray, yarray, 'o', alpha=0.2)\n",
    "    #draw a circle, add new array w different color\n",
    "        \n",
    "    rpi= (4 * in_circle) / iterations #use ratio discussed below\n",
    "    return rpi"
   ]
  },
  {
   "cell_type": "code",
   "execution_count": 18,
   "id": "5ddfbf16",
   "metadata": {},
   "outputs": [],
   "source": [
    "#this function above works due to the ratio of the areas of the circle and square. \n",
    "#the area of the circle is A=(pi)(r^2), but our radius is 1, so the area is pi\n",
    "#the area of the square is A=2*2, which is 4\n",
    "#the ratio we are looking for is the points that fall within the circle to the total area (the square)\n",
    "#this means that dividing the area of the circle (pi) by the area of the square (4) is equal to... \n",
    "#the points that fall in the circle and the points that are in total (in the square)\n",
    "#you would get the equation (pi/4)=(in_circle/total)\n",
    "#solve for pi and you get pi=(4*in_circle/total)"
   ]
  },
  {
   "cell_type": "code",
   "execution_count": 19,
   "id": "35904a24",
   "metadata": {
    "scrolled": true
   },
   "outputs": [
    {
     "data": {
      "text/plain": [
       "3.044"
      ]
     },
     "execution_count": 19,
     "metadata": {},
     "output_type": "execute_result"
    },
    {
     "data": {
      "image/png": "[encoded data removed]",
      "text/plain": [
       "<Figure size 432x288 with 1 Axes>"
      ]
     },
     "metadata": {
      "needs_background": "light"
     },
     "output_type": "display_data"
    }
   ],
   "source": [
    "computePI (1000)"
   ]
  },
  {
   "cell_type": "code",
   "execution_count": 26,
   "id": "cefea5c4",
   "metadata": {
    "scrolled": true
   },
   "outputs": [
    {
     "name": "stdout",
     "output_type": "stream",
     "text": [
      "[[-0.16161097  0.370439   -0.5910955   0.75623487 -0.94522481  0.34093502\n",
      "  -0.1653904   0.11737966 -0.71922612 -0.60379702]]\n"
     ]
    },
    {
     "ename": "NameError",
     "evalue": "name 'yarray' is not defined",
     "output_type": "error",
     "traceback": [
      "\u001b[1;31m---------------------------------------------------------------------------\u001b[0m",
      "\u001b[1;31mNameError\u001b[0m                                 Traceback (most recent call last)",
      "\u001b[1;32m<ipython-input-26-6b8dcfc7064b>\u001b[0m in \u001b[0;36m<module>\u001b[1;34m\u001b[0m\n\u001b[0;32m      4\u001b[0m \u001b[0mnp\u001b[0m\u001b[1;33m.\u001b[0m\u001b[0mappend\u001b[0m\u001b[1;33m.\u001b[0m\u001b[0myarray\u001b[0m \u001b[1;33m=\u001b[0m \u001b[1;33m[\u001b[0m\u001b[0myran\u001b[0m\u001b[1;33m]\u001b[0m\u001b[1;33m\u001b[0m\u001b[1;33m\u001b[0m\u001b[0m\n\u001b[0;32m      5\u001b[0m \u001b[0mprint\u001b[0m \u001b[1;33m(\u001b[0m\u001b[0mxarray\u001b[0m\u001b[1;33m)\u001b[0m\u001b[1;33m\u001b[0m\u001b[1;33m\u001b[0m\u001b[0m\n\u001b[1;32m----> 6\u001b[1;33m \u001b[0mprint\u001b[0m \u001b[1;33m(\u001b[0m\u001b[0myarray\u001b[0m\u001b[1;33m)\u001b[0m\u001b[1;33m\u001b[0m\u001b[1;33m\u001b[0m\u001b[0m\n\u001b[0m\u001b[0;32m      7\u001b[0m \u001b[1;31m#so, I can get it to append here, but why is there 10 values? where did I specify that? or is it default?\u001b[0m\u001b[1;33m\u001b[0m\u001b[1;33m\u001b[0m\u001b[1;33m\u001b[0m\u001b[0m\n\u001b[0;32m      8\u001b[0m \u001b[1;31m# + why is it not showing up in the original attempt? Is it because its in a while loop? how do I not have it in then?\u001b[0m\u001b[1;33m\u001b[0m\u001b[1;33m\u001b[0m\u001b[1;33m\u001b[0m\u001b[0m\n",
      "\u001b[1;31mNameError\u001b[0m: name 'yarray' is not defined"
     ]
    }
   ],
   "source": [
    "xran = random.uniform(-1.0,1.0) #call random numbers on a -1 to 1 value (giving the circle a r=1)\n",
    "yran = random.uniform(-1.0,1.0)\n",
    "np.append.xarray = [xran] #append value to numpy array\n",
    "np.append.yarray = [yran]\n",
    "print (xarray)\n",
    "print (yarray)\n",
    "#so, I can get it to append here, but why is there 10 values? where did I specify that? or is it default?\n",
    "# + why is it not showing up in the original attempt? Is it because its in a while loop? how do I not have it in then?\n",
    "#new problem: why is y array not defined but x is?"
   ]
  },
  {
   "cell_type": "code",
   "execution_count": 23,
   "id": "d3eca96f",
   "metadata": {},
   "outputs": [],
   "source": [
    "def computepi2 (iterations):\n",
    "    in_circle = 0\n",
    "    throws = 0\n",
    "    xarray = [] #declare as empty arrays\n",
    "    yarray = []\n",
    "    size = (1, iterations)\n",
    "    \n",
    "    xarray = np.random.uniform(-1, 1, size)\n",
    "    yarray = np.random.uniform(-1, 1, size)\n",
    "    \n",
    "    if math.hypot (xarray, yarray) <= 1: #if the hypot of x and y is less than 1 (in the circle)\n",
    "            in_circle += 1\n",
    "            throws += 1\n",
    "    else: #if the hypot is larger than 1 (outside the cirlce)\n",
    "            throws += 1\n",
    "            \n",
    "    plt.plot(xarray, yarray, 'o', alpha=0.2)\n",
    "    #draw a circle, add new array w different color\n",
    "        \n",
    "    rpi= (4 * in_circle) / iterations #use ratio discussed below\n",
    "    return rpi\n",
    "    \n",
    "    #attempt 2? ok so I can get this to run fine but I don't know how to run an array through the if/else\n",
    "    #I know with this specific set up I would need a specific variable to put the array values into to calc hypot\n",
    "    #I know how I could \"count up\" in C++ but I dont know how to ask for something like that"
   ]
  },
  {
   "cell_type": "code",
   "execution_count": 24,
   "id": "5836fd9a",
   "metadata": {},
   "outputs": [
    {
     "ename": "TypeError",
     "evalue": "only size-1 arrays can be converted to Python scalars",
     "output_type": "error",
     "traceback": [
      "\u001b[1;31m---------------------------------------------------------------------------\u001b[0m",
      "\u001b[1;31mTypeError\u001b[0m                                 Traceback (most recent call last)",
      "\u001b[1;32m<ipython-input-24-5adbd66e457d>\u001b[0m in \u001b[0;36m<module>\u001b[1;34m\u001b[0m\n\u001b[1;32m----> 1\u001b[1;33m \u001b[0mcomputepi2\u001b[0m\u001b[1;33m(\u001b[0m\u001b[1;36m1000\u001b[0m\u001b[1;33m)\u001b[0m\u001b[1;33m\u001b[0m\u001b[1;33m\u001b[0m\u001b[0m\n\u001b[0m",
      "\u001b[1;32m<ipython-input-23-d71776d565c2>\u001b[0m in \u001b[0;36mcomputepi2\u001b[1;34m(iterations)\u001b[0m\n\u001b[0;32m      9\u001b[0m     \u001b[0myarray\u001b[0m \u001b[1;33m=\u001b[0m \u001b[0mnp\u001b[0m\u001b[1;33m.\u001b[0m\u001b[0mrandom\u001b[0m\u001b[1;33m.\u001b[0m\u001b[0muniform\u001b[0m\u001b[1;33m(\u001b[0m\u001b[1;33m-\u001b[0m\u001b[1;36m1\u001b[0m\u001b[1;33m,\u001b[0m \u001b[1;36m1\u001b[0m\u001b[1;33m,\u001b[0m \u001b[0msize\u001b[0m\u001b[1;33m)\u001b[0m\u001b[1;33m\u001b[0m\u001b[1;33m\u001b[0m\u001b[0m\n\u001b[0;32m     10\u001b[0m \u001b[1;33m\u001b[0m\u001b[0m\n\u001b[1;32m---> 11\u001b[1;33m     \u001b[1;32mif\u001b[0m \u001b[0mmath\u001b[0m\u001b[1;33m.\u001b[0m\u001b[0mhypot\u001b[0m \u001b[1;33m(\u001b[0m\u001b[0mxarray\u001b[0m\u001b[1;33m,\u001b[0m \u001b[0myarray\u001b[0m\u001b[1;33m)\u001b[0m \u001b[1;33m<=\u001b[0m \u001b[1;36m1\u001b[0m\u001b[1;33m:\u001b[0m \u001b[1;31m#if the hypot of x and y is less than 1 (in the circle)\u001b[0m\u001b[1;33m\u001b[0m\u001b[1;33m\u001b[0m\u001b[0m\n\u001b[0m\u001b[0;32m     12\u001b[0m             \u001b[0min_circle\u001b[0m \u001b[1;33m+=\u001b[0m \u001b[1;36m1\u001b[0m\u001b[1;33m\u001b[0m\u001b[1;33m\u001b[0m\u001b[0m\n\u001b[0;32m     13\u001b[0m             \u001b[0mthrows\u001b[0m \u001b[1;33m+=\u001b[0m \u001b[1;36m1\u001b[0m\u001b[1;33m\u001b[0m\u001b[1;33m\u001b[0m\u001b[0m\n",
      "\u001b[1;31mTypeError\u001b[0m: only size-1 arrays can be converted to Python scalars"
     ]
    }
   ],
   "source": [
    "computepi2(1000)"
   ]
  },
  {
   "cell_type": "code",
   "execution_count": null,
   "id": "899b1239",
   "metadata": {},
   "outputs": [],
   "source": []
  }
 ],
 "metadata": {
  "kernelspec": {
   "display_name": "Python 3",
   "language": "python",
   "name": "python3"
  },
  "language_info": {
   "codemirror_mode": {
    "name": "ipython",
    "version": 3
   },
   "file_extension": ".py",
   "mimetype": "text/x-python",
   "name": "python",
   "nbconvert_exporter": "python",
   "pygments_lexer": "ipython3",
   "version": "3.8.8"
  }
 },
 "nbformat": 4,
 "nbformat_minor": 5
}
